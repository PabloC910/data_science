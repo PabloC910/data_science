{
  "nbformat": 4,
  "nbformat_minor": 0,
  "metadata": {
    "colab": {
      "provenance": []
    },
    "kernelspec": {
      "name": "python3",
      "display_name": "Python 3"
    },
    "language_info": {
      "name": "python"
    }
  },
  "cells": [
    {
      "cell_type": "code",
      "execution_count": 1,
      "metadata": {
        "id": "B9kmLyZzTPIO"
      },
      "outputs": [],
      "source": [
        "import pandas as pd"
      ]
    },
    {
      "cell_type": "code",
      "source": [
        "'''\n",
        "Dataset de emails. Contiene 5172 filas dónde cada una representa un email. Cada fila tiene 3002 columnas, dónde la primera columna indica el número de mail y la última columna indica 1 si es spam, 0 si no es spam.\n",
        "El resto de columnas contiene las 3000 palabras más comunes en todos los mails, dónde cada fila contiene un número que representa la cantidad de veces que se repite cada palabra en cada mail.\n",
        "\n",
        "Puede usarse para clasificar un conjunto de emails en spam/no spam.\n",
        "'''\n",
        "df = pd.read_csv(\"emails.csv\")\n",
        "pd.set_option('display.max_columns', 10)\n",
        "print(df.head())"
      ],
      "metadata": {
        "colab": {
          "base_uri": "https://localhost:8080/"
        },
        "id": "j6HXMI0-TVCH",
        "outputId": "1e4c74ea-168f-458c-cd69-1e117018fa87"
      },
      "execution_count": 5,
      "outputs": [
        {
          "output_type": "stream",
          "name": "stdout",
          "text": [
            "  Email No.  the  to  ect  and  ...  military  allowing  ff  dry  Prediction\n",
            "0   Email 1    0   0    1    0  ...         0         0   0    0           0\n",
            "1   Email 2    8  13   24    6  ...         0         0   1    0           0\n",
            "2   Email 3    0   0    1    0  ...         0         0   0    0           0\n",
            "3   Email 4    0   5   22    0  ...         0         0   0    0           0\n",
            "4   Email 5    7   6   17    1  ...         0         0   1    0           0\n",
            "\n",
            "[5 rows x 3002 columns]\n"
          ]
        }
      ]
    },
    {
      "cell_type": "code",
      "source": [
        "'''\n",
        "Dataset de información sobre vuelos. Contiene columnas referidas a la información de la aeronave tales como cantidad de pasajeros e información de la aerolínea, así como también columnas referidas a información tal como\n",
        "vuelos concurrentes en el día y clima a la hora de inicio del vuelo.\n",
        "\n",
        "Puede usarse para predecir si un vuelo se va a demorar o saldrá a horario.\n",
        "'''\n",
        "df = pd.read_csv(\"flights_info.csv\")\n",
        "print(df.head())"
      ],
      "metadata": {
        "colab": {
          "base_uri": "https://localhost:8080/"
        },
        "id": "fv36LJhQZJM0",
        "outputId": "77c1272f-e345-4a35-97b7-f66adb7036c3"
      },
      "execution_count": 6,
      "outputs": [
        {
          "output_type": "stream",
          "name": "stdout",
          "text": [
            "   MONTH  DAY_OF_WEEK  DEP_DEL15 DEP_TIME_BLK  DISTANCE_GROUP  ...  PRCP  \\\n",
            "0      1            7          0    0800-0859               2  ...   0.0   \n",
            "1      1            7          0    0700-0759               7  ...   0.0   \n",
            "2      1            7          0    0600-0659               7  ...   0.0   \n",
            "3      1            7          0    0600-0659               9  ...   0.0   \n",
            "4      1            7          0    0001-0559               7  ...   0.0   \n",
            "\n",
            "   SNOW  SNWD  TMAX  AWND  \n",
            "0   0.0   0.0  65.0  2.91  \n",
            "1   0.0   0.0  65.0  2.91  \n",
            "2   0.0   0.0  65.0  2.91  \n",
            "3   0.0   0.0  65.0  2.91  \n",
            "4   0.0   0.0  65.0  2.91  \n",
            "\n",
            "[5 rows x 26 columns]\n"
          ]
        }
      ]
    },
    {
      "cell_type": "code",
      "source": [
        "'''\n",
        "Dataset de información sobre pacientes. Contiene columnas con información de pacientes referida a la enfermedad de diabetes. En detalle:\n",
        "\n",
        "Pregnancies: Número de veces embarazada\n",
        "Glucose: Concentración de glucosa en plasma a las 2 horas en una prueba de tolerancia oral a la glucosa\n",
        "BloodPressure: Presión arterial diastólica (mm Hg)\n",
        "SkinThickness: Grosor del pliegue cutáneo del tríceps (mm)\n",
        "Insulin: Insulina sérica a las 2 horas (mu U/ml)\n",
        "BMI (Índice de Masa Corporal): Índice de masa corporal (peso en kg/(altura en m)^2)\n",
        "DiabetesPedigreeFunction: Probabilidad de diabetes según antecedentes familiares\n",
        "Age: Edad (años)\n",
        "Outcome: Variable de clase (0 o 1)\n",
        "\n",
        "Puede usarse para predecir si un paciente tiene diabetes o no.\n",
        "'''\n",
        "df = pd.read_csv(\"diabetes.csv\")\n",
        "print(df.head())"
      ],
      "metadata": {
        "colab": {
          "base_uri": "https://localhost:8080/"
        },
        "id": "Fnus6W4WaEiT",
        "outputId": "e1440a95-9b63-4e4f-b528-34b4450359f6"
      },
      "execution_count": 9,
      "outputs": [
        {
          "output_type": "stream",
          "name": "stdout",
          "text": [
            "   Pregnancies  Glucose  BloodPressure  SkinThickness  Insulin   BMI  \\\n",
            "0            6      148             72             35        0  33.6   \n",
            "1            1       85             66             29        0  26.6   \n",
            "2            8      183             64              0        0  23.3   \n",
            "3            1       89             66             23       94  28.1   \n",
            "4            0      137             40             35      168  43.1   \n",
            "\n",
            "   DiabetesPedigreeFunction  Age  Outcome  \n",
            "0                     0.627   50        1  \n",
            "1                     0.351   31        0  \n",
            "2                     0.672   32        1  \n",
            "3                     0.167   21        0  \n",
            "4                     2.288   33        1  \n"
          ]
        }
      ]
    }
  ]
}